{
 "cells": [
  {
   "cell_type": "code",
   "execution_count": 1,
   "id": "comfortable-abuse",
   "metadata": {},
   "outputs": [
    {
     "name": "stdout",
     "output_type": "stream",
     "text": [
      "KuCoin Account\n"
     ]
    }
   ],
   "source": [
    "#pip3 install kucoin-python\n",
    "from kucoin.client import User, Market, Trade\n",
    "print(\"KuCoin Account\")\n",
    "\n",
    "api_key = '6012f5afbd074e0006b769ba'\n",
    "api_secret = '07d14b4f-b8ea-4adb-99f2-dd65d302e0bd'\n",
    "api_passphrase = 'passphrase'\n",
    "try:\n",
    "    user = User(api_key, api_secret, api_passphrase)\n",
    "except Exception as e:\n",
    "    print(\"Access Fail\")\n",
    "    print(e)\n",
    "\n",
    "# or connect to Sandbox\n",
    "# client = User(api_key, api_secret, api_passphrase, is_sandbox=True)"
   ]
  },
  {
   "cell_type": "code",
   "execution_count": 2,
   "id": "prime-brown",
   "metadata": {},
   "outputs": [
    {
     "name": "stdout",
     "output_type": "stream",
     "text": [
      "{'currency': 'BTC', 'limitBTCAmount': '5.00000000', 'usedBTCAmount': '0.00000000', 'remainAmount': '5.00000000', 'availableAmount': '0.00000000', 'withdrawMinFee': '0.0005', 'innerWithdrawMinFee': '0', 'withdrawMinSize': '0.001', 'isWithdrawEnabled': True, 'precision': 8, 'chain': 'BTC'}\n"
     ]
    }
   ],
   "source": [
    "try:\n",
    "    address = user.get_withdrawal_quota('BTC')\n",
    "    print(address)\n",
    "except Exception as e:\n",
    "    print(\"Access Fail\")\n",
    "    print(e)"
   ]
  },
  {
   "cell_type": "code",
   "execution_count": 9,
   "id": "young-headset",
   "metadata": {},
   "outputs": [
    {
     "name": "stdout",
     "output_type": "stream",
     "text": [
      "Access Fail\n",
      "HTTPSConnectionPool(host='api.kucoin.com', port=443): Max retries exceeded with url: /api/v1/withdrawals/quotas?currency=BNB (Caused by NewConnectionError('<urllib3.connection.HTTPSConnection object at 0x7f58843eec70>: Failed to establish a new connection: [Errno 101] Network is unreachable'))\n"
     ]
    }
   ],
   "source": [
    "try:\n",
    "    ac = user.get_withdrawal_quota('BNB')\n",
    "    print(\"Remaining amount: \" + ac['availableAmount'] + \" \" +ac['currency'])\n",
    "except Exception as e:\n",
    "    print(\"Access Fail\")\n",
    "    print(e)"
   ]
  },
  {
   "cell_type": "code",
   "execution_count": null,
   "id": "competent-mercy",
   "metadata": {},
   "outputs": [],
   "source": []
  }
 ],
 "metadata": {
  "kernelspec": {
   "display_name": "Python 3",
   "language": "python",
   "name": "python3"
  },
  "language_info": {
   "codemirror_mode": {
    "name": "ipython",
    "version": 3
   },
   "file_extension": ".py",
   "mimetype": "text/x-python",
   "name": "python",
   "nbconvert_exporter": "python",
   "pygments_lexer": "ipython3",
   "version": "3.8.5"
  }
 },
 "nbformat": 4,
 "nbformat_minor": 5
}
