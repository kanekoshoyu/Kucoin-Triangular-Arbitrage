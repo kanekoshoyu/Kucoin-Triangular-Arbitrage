{
 "cells": [
  {
   "cell_type": "code",
   "execution_count": 31,
   "id": "exterior-glasgow",
   "metadata": {},
   "outputs": [
    {
     "name": "stdout",
     "output_type": "stream",
     "text": [
      "KuCoin Quote\n"
     ]
    }
   ],
   "source": [
    "#pip3 install kucoin-python\n",
    "from kucoin.client import User, Market, Trade\n",
    "import datetime\n",
    "print(\"KuCoin Quote\")\n",
    "\n",
    "market = Market(url='https://api.kucoin.com')\n",
    "# or connect to Sandbox\n",
    "# client = Market(url='https://openapi-sandbox.kucoin.com')\n",
    "# client = Market(is_sandbox=True)"
   ]
  },
  {
   "cell_type": "code",
   "execution_count": 32,
   "id": "junior-label",
   "metadata": {
    "tags": []
   },
   "outputs": [
    {
     "name": "stdout",
     "output_type": "stream",
     "text": [
      "{'time': 1612298246892, 'sequence': '1611891638689', 'price': '35591.7', 'size': '0.01022285', 'bestBid': '35593.7', 'bestBidSize': '0.05', 'bestAsk': '35593.8', 'bestAskSize': '0.14481661'}\n",
      "near:  1508.75\n",
      "far:  1509.7287305999998\n",
      "2021-02-03 04:37:26.892000\n"
     ]
    }
   ],
   "source": [
    "# get symbol kline\n",
    "try:\n",
    "    btc_usd_ticker = market.get_ticker('BTC-USDT')\n",
    "    eth_btc_ticker = market.get_ticker('ETH-BTC')\n",
    "    eth_usd_ticker = market.get_ticker('ETH-USDT')\n",
    "    btc_usd_mid = float(btc_usd_ticker['price'])\n",
    "    eth_btc_mid = float(eth_btc_ticker['price'])\n",
    "    eth_usd_mid = float(eth_usd_ticker['price'])\n",
    "    print(btc_usd_ticker)\n",
    "    print(\"near: \",eth_usd_mid)\n",
    "    print(\"far: \",eth_btc_mid*btc_usd_mid)\n",
    "    time = btc_usd_ticker['time']\n",
    "    timestamp = datetime.datetime.fromtimestamp(time/1000) #API in ms\n",
    "    print(timestamp)\n",
    "except Exception as e:\n",
    "    print(\"Quote Fail\")\n",
    "    print(e)"
   ]
  },
  {
   "cell_type": "code",
   "execution_count": 28,
   "id": "twenty-ethics",
   "metadata": {},
   "outputs": [
    {
     "name": "stdout",
     "output_type": "stream",
     "text": [
      "1612298239394\n"
     ]
    }
   ],
   "source": [
    "server_time = market.get_server_timestamp()\n",
    "print(server_time)"
   ]
  },
  {
   "cell_type": "code",
   "execution_count": null,
   "id": "opening-standard",
   "metadata": {},
   "outputs": [],
   "source": []
  }
 ],
 "metadata": {
  "kernelspec": {
   "display_name": "Python 3",
   "language": "python",
   "name": "python3"
  },
  "language_info": {
   "codemirror_mode": {
    "name": "ipython",
    "version": 3
   },
   "file_extension": ".py",
   "mimetype": "text/x-python",
   "name": "python",
   "nbconvert_exporter": "python",
   "pygments_lexer": "ipython3",
   "version": "3.8.5"
  }
 },
 "nbformat": 4,
 "nbformat_minor": 5
}
