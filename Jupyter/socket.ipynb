{
 "cells": [
  {
   "cell_type": "code",
   "execution_count": 2,
   "id": "comic-authority",
   "metadata": {},
   "outputs": [],
   "source": [
    "# Sourced from https://github.com/Kucoin/kucoin-python-sdk\n",
    "import asyncio\n",
    "from kucoin.client import WsToken\n",
    "from kucoin.ws_client import KucoinWsClient\n",
    "\n",
    "\n",
    "async def main():\n",
    "    async def deal_msg(msg):\n",
    "        if msg['topic'] == '/market/level3:BTC-USDT':\n",
    "            print(msg[\"data\"])\n",
    "        elif msg['topic'] == '/market/level3:KCS-USDT':\n",
    "            print(f'Get KCS level3:{msg[\"data\"]}')\n",
    "\n",
    "    # is public\n",
    "    # client = WsToken()\n",
    "    #is private\n",
    "    client = WsToken(key='', secret='', passphrase='', is_sandbox=False, url='')\n",
    "    # is sandbox\n",
    "    # client = WsToken(is_sandbox=True)\n",
    "    ws_client = await KucoinWsClient.create(None, client, deal_msg, private=False)\n",
    "    # await ws_client.subscribe('/market/ticker:BTC-USDT,ETH-USDT')\n",
    "    await ws_client.subscribe('/market/level3:BTC-USDT,KCS-USDT')\n",
    "    while True:\n",
    "        await asyncio.sleep(60, loop=loop)\n",
    "\n",
    "\n",
    "if __name__ == \"__main__\":\n",
    "    loop = asyncio.get_event_loop()"
   ]
  },
  {
   "cell_type": "code",
   "execution_count": null,
   "id": "returning-biotechnology",
   "metadata": {},
   "outputs": [],
   "source": []
  },
  {
   "cell_type": "code",
   "execution_count": null,
   "id": "classified-savings",
   "metadata": {},
   "outputs": [],
   "source": []
  }
 ],
 "metadata": {
  "kernelspec": {
   "display_name": "Python 3",
   "language": "python",
   "name": "python3"
  },
  "language_info": {
   "codemirror_mode": {
    "name": "ipython",
    "version": 3
   },
   "file_extension": ".py",
   "mimetype": "text/x-python",
   "name": "python",
   "nbconvert_exporter": "python",
   "pygments_lexer": "ipython3",
   "version": "3.8.5"
  }
 },
 "nbformat": 4,
 "nbformat_minor": 5
}
