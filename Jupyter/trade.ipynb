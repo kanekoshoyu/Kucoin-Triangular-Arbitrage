{
 "cells": [
  {
   "cell_type": "code",
   "execution_count": 1,
   "id": "expressed-undergraduate",
   "metadata": {},
   "outputs": [
    {
     "name": "stdout",
     "output_type": "stream",
     "text": [
      "KuCoin Trade\n"
     ]
    }
   ],
   "source": [
    "#pip3 install kucoin-python\n",
    "from kucoin.client import User, Market, Trade\n",
    "print(\"KuCoin Trade\")\n",
    "\n",
    "api_key = '6012f5afbd074e0006b769ba'\n",
    "api_secret = '07d14b4f-b8ea-4adb-99f2-dd65d302e0bd'\n",
    "api_passphrase = 'passphrase'\n",
    "\n",
    "trade = Trade(key=api_key, secret=api_secret, passphrase=api_passphrase, is_sandbox=False, url='')"
   ]
  },
  {
   "cell_type": "code",
   "execution_count": 2,
   "id": "legendary-tiffany",
   "metadata": {},
   "outputs": [
    {
     "name": "stdout",
     "output_type": "stream",
     "text": [
      "Trading Fail\n",
      "200-{\"code\":\"900001\",\"msg\":\"Symbol [BTC-USD] Not Exists\"}\n"
     ]
    }
   ],
   "source": [
    "# Trade\n",
    "\n",
    "try:\n",
    "    order_id = trade.create_limit_order('BTC-USDT', 'buy', '0.00001', '10000')\n",
    "    print(\"Trading Success\")\n",
    "    print(order_id)\n",
    "except Exception as e:\n",
    "    print(\"Trading Fail\")\n",
    "    print(e)"
   ]
  },
  {
   "cell_type": "code",
   "execution_count": null,
   "id": "cooked-whole",
   "metadata": {},
   "outputs": [],
   "source": []
  }
 ],
 "metadata": {
  "kernelspec": {
   "display_name": "Python 3",
   "language": "python",
   "name": "python3"
  },
  "language_info": {
   "codemirror_mode": {
    "name": "ipython",
    "version": 3
   },
   "file_extension": ".py",
   "mimetype": "text/x-python",
   "name": "python",
   "nbconvert_exporter": "python",
   "pygments_lexer": "ipython3",
   "version": "3.8.5"
  }
 },
 "nbformat": 4,
 "nbformat_minor": 5
}
